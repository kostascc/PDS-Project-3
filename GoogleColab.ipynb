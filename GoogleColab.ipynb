{
  "nbformat": 4,
  "nbformat_minor": 0,
  "metadata": {
    "colab": {
      "name": "CUDA-NLM.ipynb",
      "provenance": [],
      "collapsed_sections": [],
      "authorship_tag": "ABX9TyOKPv5bMZkX+/S4viHrL+Eq",
      "include_colab_link": true
    },
    "kernelspec": {
      "name": "python3",
      "display_name": "Python 3"
    },
    "accelerator": "GPU"
  },
  "cells": [
    {
      "cell_type": "markdown",
      "metadata": {
        "id": "view-in-github",
        "colab_type": "text"
      },
      "source": [
        "<a href=\"https://colab.research.google.com/github/kostascc/PDS-Project-3/blob/main/GoogleColab.ipynb\" target=\"_parent\"><img src=\"https://colab.research.google.com/assets/colab-badge.svg\" alt=\"Open In Colab\"/></a>"
      ]
    },
    {
      "cell_type": "markdown",
      "metadata": {
        "id": "z6VnZVNLOkLa"
      },
      "source": [
        "Load Cuda"
      ]
    },
    {
      "cell_type": "code",
      "metadata": {
        "id": "wwodT_yKDQWm"
      },
      "source": [
        "!nvcc --version\r\n",
        "!git clone https://github.com/kostascc/PDS-Project-3 PDS\r\n",
        "!pip install git+git://github.com/andreinechaev/nvcc4jupyter.git\r\n",
        "%load_ext nvcc_plugin"
      ],
      "execution_count": null,
      "outputs": []
    },
    {
      "cell_type": "markdown",
      "metadata": {
        "id": "kctRcJRRUUf8"
      },
      "source": [
        "Get GPU Information"
      ]
    },
    {
      "cell_type": "code",
      "metadata": {
        "id": "3SSYokqkUMVu"
      },
      "source": [
        "!nvidia-smi"
      ],
      "execution_count": null,
      "outputs": []
    },
    {
      "cell_type": "markdown",
      "metadata": {
        "id": "jC1SRDtjWJEr"
      },
      "source": [
        "Compile"
      ]
    },
    {
      "cell_type": "code",
      "metadata": {
        "id": "k8lcCUHXSVHQ"
      },
      "source": [
        "!cd ./PDS/NLM && cp parameters.h Parameters.h &&  nvcc -o main.o main.cu CPU.cpp GPU.cu Utils.cpp -Xcompiler -fopenmp"
      ],
      "execution_count": null,
      "outputs": []
    },
    {
      "cell_type": "markdown",
      "metadata": {
        "id": "YZS7Sz5tWLG0"
      },
      "source": [
        "Run"
      ]
    },
    {
      "cell_type": "code",
      "metadata": {
        "id": "Ke-FpSDKLDPy"
      },
      "source": [
        "!cd ./PDS/NLM && ./main.o -i ../input/rectangular_64x64_n4.bmp -o ../out -gpu"
      ],
      "execution_count": null,
      "outputs": []
    }
  ]
}